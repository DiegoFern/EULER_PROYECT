{
 "cells": [
  {
   "cell_type": "markdown",
   "metadata": {},
   "source": [
    "Consider the fraction, n/d, where n and d are positive integers. If n<d and HCF(n,d)=1, it is called a reduced proper fraction.\n",
    "\n",
    "If we list the set of reduced proper fractions for d ≤ 8 in ascending order of size, we get:\n",
    "\n",
    "1/8, 1/7, 1/6, 1/5, 1/4, 2/7, 1/3, 3/8, 2/5, 3/7, 1/2, 4/7, 3/5, 5/8, 2/3, 5/7, 3/4, 4/5, 5/6, 6/7, 7/8\n",
    "\n",
    "It can be seen that there are 21 elements in this set.\n",
    "\n",
    "How many elements would be contained in the set of reduced proper fractions for d ≤ 1,000,000?"
   ]
  },
  {
   "cell_type": "code",
   "execution_count": 4,
   "metadata": {},
   "outputs": [],
   "source": [
    "PRIMES1000=[2]\n",
    "PRIMES=[2]\n",
    "for i in range(3,1300):\n",
    "    if not(any(map(lambda x:i%x==0,PRIMES1000))):\n",
    "        PRIMES1000.append(i)\n",
    "PRIMES=PRIMES1000[:]\n",
    "for i in range(1000,1000000):  \n",
    "    if not(any(map(lambda x:i%x==0,PRIMES1000))):\n",
    "        PRIMES.append(i)   \n"
   ]
  },
  {
   "cell_type": "code",
   "execution_count": 5,
   "metadata": {},
   "outputs": [],
   "source": [
    "def prod(xs):\n",
    "    s=1\n",
    "    for x in xs:\n",
    "        s*=x\n",
    "    return s\n",
    "\n",
    "def factorize(x):\n",
    "    ans={}\n",
    "    for p in PRIMES1000:\n",
    "        while x%p == 0:\n",
    "            x=x/p\n",
    "            ans[p]=ans.get(p,0)+1\n",
    "    if x>1:\n",
    "        ans[x]=1\n",
    "    return list(ans.items())\n",
    "def phi(x):\n",
    "    if x%1000==\n",
    "    xs=factorize(x)\n",
    "    return prod(map(lambda x:((x[0]-1)*(x[0]**(x[1 ]-1) )),xs))\n",
    "     "
   ]
  },
  {
   "cell_type": "code",
   "execution_count": 6,
   "metadata": {},
   "outputs": [
    {
     "data": {
      "text/plain": [
       "303963152391.0"
      ]
     },
     "execution_count": 6,
     "metadata": {},
     "output_type": "execute_result"
    }
   ],
   "source": [
    "sum(map(phi,range(2,10**6)))"
   ]
  }
 ],
 "metadata": {
  "kernelspec": {
   "display_name": "Python 3",
   "language": "python",
   "name": "python3"
  },
  "language_info": {
   "codemirror_mode": {
    "name": "ipython",
    "version": 3
   },
   "file_extension": ".py",
   "mimetype": "text/x-python",
   "name": "python",
   "nbconvert_exporter": "python",
   "pygments_lexer": "ipython3",
   "version": "3.7.0"
  }
 },
 "nbformat": 4,
 "nbformat_minor": 2
}
