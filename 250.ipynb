{
 "cells": [
  {
   "cell_type": "code",
   "execution_count": 21,
   "metadata": {},
   "outputs": [],
   "source": [
    "def fastexpmod(a,b,m):\n",
    "    while b>1:\n",
    "        if b%2==0:\n",
    "            a=(a**2)%m\n",
    "            b=b/2\n",
    "        else:\n",
    "            a=((a)*fastexpmod(a,b-1,m))%m\n",
    "            b=0\n",
    "    return a"
   ]
  },
  {
   "cell_type": "code",
   "execution_count": null,
   "metadata": {},
   "outputs": [],
   "source": []
  },
  {
   "cell_type": "code",
   "execution_count": 28,
   "metadata": {},
   "outputs": [
    {
     "data": {
      "text/plain": [
       "0"
      ]
     },
     "execution_count": 28,
     "metadata": {},
     "output_type": "execute_result"
    }
   ],
   "source": [
    "fastexpmod(30,30,10**16)"
   ]
  },
  {
   "cell_type": "markdown",
   "metadata": {},
   "source": [
    "Para ser multiplo de $250=2*5*5*5$ la base ha de ser multiplo de 10, luego los sumandos que nos interesan son $10^{10} 20^{20} ...$ pero en el caso de $(k*10)^{(k*10)}=(10^{(k*10)} )*k^{k*10}$ siendo si $k>2$ multiplo de $10^{16}$ como nos quedamos con los 15 numeros más de la derecha significa que esos sumandos no nos afectarán, es decir, la suma se queda con $\\{10^10\\}$"
   ]
  },
  {
   "cell_type": "code",
   "execution_count": null,
   "metadata": {},
   "outputs": [],
   "source": []
  }
 ],
 "metadata": {
  "kernelspec": {
   "display_name": "Python 3",
   "language": "python",
   "name": "python3"
  },
  "language_info": {
   "codemirror_mode": {
    "name": "ipython",
    "version": 3
   },
   "file_extension": ".py",
   "mimetype": "text/x-python",
   "name": "python",
   "nbconvert_exporter": "python",
   "pygments_lexer": "ipython3",
   "version": "3.7.0"
  }
 },
 "nbformat": 4,
 "nbformat_minor": 2
}
